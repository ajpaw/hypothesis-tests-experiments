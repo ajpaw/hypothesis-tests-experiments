{
 "cells": [
  {
   "cell_type": "code",
   "execution_count": 2,
   "id": "50881ead",
   "metadata": {},
   "outputs": [],
   "source": [
    "import pandas as pd\n",
    "import numpy as np\n",
    "import matplotlib.pyplot as plt\n",
    "import datetime as dt\n",
    "import seaborn as sns\n",
    "import re\n",
    "import scipy.stats as stats"
   ]
  },
  {
   "cell_type": "markdown",
   "id": "cfe2349e",
   "metadata": {},
   "source": [
    "# Business Problem 1 "
   ]
  },
  {
   "cell_type": "code",
   "execution_count": 3,
   "id": "80222a58",
   "metadata": {},
   "outputs": [],
   "source": [
    "bp1 = pd.read_csv(\"LoansData.csv\")"
   ]
  },
  {
   "cell_type": "code",
   "execution_count": 4,
   "id": "dbee5d16",
   "metadata": {
    "scrolled": false
   },
   "outputs": [
    {
     "data": {
      "text/html": [
       "<div>\n",
       "<style scoped>\n",
       "    .dataframe tbody tr th:only-of-type {\n",
       "        vertical-align: middle;\n",
       "    }\n",
       "\n",
       "    .dataframe tbody tr th {\n",
       "        vertical-align: top;\n",
       "    }\n",
       "\n",
       "    .dataframe thead th {\n",
       "        text-align: right;\n",
       "    }\n",
       "</style>\n",
       "<table border=\"1\" class=\"dataframe\">\n",
       "  <thead>\n",
       "    <tr style=\"text-align: right;\">\n",
       "      <th></th>\n",
       "      <th>Amount.Requested</th>\n",
       "      <th>Amount.Funded.By.Investors</th>\n",
       "      <th>Interest.Rate</th>\n",
       "      <th>Loan.Length</th>\n",
       "      <th>Loan.Purpose</th>\n",
       "      <th>Debt.To.Income.Ratio</th>\n",
       "      <th>State</th>\n",
       "      <th>Home.Ownership</th>\n",
       "      <th>Monthly.Income</th>\n",
       "      <th>FICO.Range</th>\n",
       "      <th>Open.CREDIT.Lines</th>\n",
       "      <th>Revolving.CREDIT.Balance</th>\n",
       "      <th>Inquiries.in.the.Last.6.Months</th>\n",
       "      <th>Employment.Length</th>\n",
       "    </tr>\n",
       "  </thead>\n",
       "  <tbody>\n",
       "    <tr>\n",
       "      <th>0</th>\n",
       "      <td>20000.0</td>\n",
       "      <td>20000.00</td>\n",
       "      <td>8.90%</td>\n",
       "      <td>36 months</td>\n",
       "      <td>debt_consolidation</td>\n",
       "      <td>14.90%</td>\n",
       "      <td>SC</td>\n",
       "      <td>MORTGAGE</td>\n",
       "      <td>6541.67</td>\n",
       "      <td>735-739</td>\n",
       "      <td>14.0</td>\n",
       "      <td>14272.0</td>\n",
       "      <td>2.0</td>\n",
       "      <td>&lt; 1 year</td>\n",
       "    </tr>\n",
       "    <tr>\n",
       "      <th>1</th>\n",
       "      <td>19200.0</td>\n",
       "      <td>19200.00</td>\n",
       "      <td>12.12%</td>\n",
       "      <td>36 months</td>\n",
       "      <td>debt_consolidation</td>\n",
       "      <td>28.36%</td>\n",
       "      <td>TX</td>\n",
       "      <td>MORTGAGE</td>\n",
       "      <td>4583.33</td>\n",
       "      <td>715-719</td>\n",
       "      <td>12.0</td>\n",
       "      <td>11140.0</td>\n",
       "      <td>1.0</td>\n",
       "      <td>2 years</td>\n",
       "    </tr>\n",
       "    <tr>\n",
       "      <th>2</th>\n",
       "      <td>35000.0</td>\n",
       "      <td>35000.00</td>\n",
       "      <td>21.98%</td>\n",
       "      <td>60 months</td>\n",
       "      <td>debt_consolidation</td>\n",
       "      <td>23.81%</td>\n",
       "      <td>CA</td>\n",
       "      <td>MORTGAGE</td>\n",
       "      <td>11500.00</td>\n",
       "      <td>690-694</td>\n",
       "      <td>14.0</td>\n",
       "      <td>21977.0</td>\n",
       "      <td>1.0</td>\n",
       "      <td>2 years</td>\n",
       "    </tr>\n",
       "    <tr>\n",
       "      <th>3</th>\n",
       "      <td>10000.0</td>\n",
       "      <td>9975.00</td>\n",
       "      <td>9.99%</td>\n",
       "      <td>36 months</td>\n",
       "      <td>debt_consolidation</td>\n",
       "      <td>14.30%</td>\n",
       "      <td>KS</td>\n",
       "      <td>MORTGAGE</td>\n",
       "      <td>3833.33</td>\n",
       "      <td>695-699</td>\n",
       "      <td>10.0</td>\n",
       "      <td>9346.0</td>\n",
       "      <td>0.0</td>\n",
       "      <td>5 years</td>\n",
       "    </tr>\n",
       "    <tr>\n",
       "      <th>4</th>\n",
       "      <td>12000.0</td>\n",
       "      <td>12000.00</td>\n",
       "      <td>11.71%</td>\n",
       "      <td>36 months</td>\n",
       "      <td>credit_card</td>\n",
       "      <td>18.78%</td>\n",
       "      <td>NJ</td>\n",
       "      <td>RENT</td>\n",
       "      <td>3195.00</td>\n",
       "      <td>695-699</td>\n",
       "      <td>11.0</td>\n",
       "      <td>14469.0</td>\n",
       "      <td>0.0</td>\n",
       "      <td>9 years</td>\n",
       "    </tr>\n",
       "    <tr>\n",
       "      <th>...</th>\n",
       "      <td>...</td>\n",
       "      <td>...</td>\n",
       "      <td>...</td>\n",
       "      <td>...</td>\n",
       "      <td>...</td>\n",
       "      <td>...</td>\n",
       "      <td>...</td>\n",
       "      <td>...</td>\n",
       "      <td>...</td>\n",
       "      <td>...</td>\n",
       "      <td>...</td>\n",
       "      <td>...</td>\n",
       "      <td>...</td>\n",
       "      <td>...</td>\n",
       "    </tr>\n",
       "    <tr>\n",
       "      <th>2495</th>\n",
       "      <td>30000.0</td>\n",
       "      <td>29950.00</td>\n",
       "      <td>16.77%</td>\n",
       "      <td>60 months</td>\n",
       "      <td>debt_consolidation</td>\n",
       "      <td>19.23%</td>\n",
       "      <td>NY</td>\n",
       "      <td>MORTGAGE</td>\n",
       "      <td>9250.00</td>\n",
       "      <td>705-709</td>\n",
       "      <td>15.0</td>\n",
       "      <td>45880.0</td>\n",
       "      <td>1.0</td>\n",
       "      <td>8 years</td>\n",
       "    </tr>\n",
       "    <tr>\n",
       "      <th>2496</th>\n",
       "      <td>16000.0</td>\n",
       "      <td>16000.00</td>\n",
       "      <td>14.09%</td>\n",
       "      <td>60 months</td>\n",
       "      <td>home_improvement</td>\n",
       "      <td>21.54%</td>\n",
       "      <td>MD</td>\n",
       "      <td>OWN</td>\n",
       "      <td>8903.25</td>\n",
       "      <td>740-744</td>\n",
       "      <td>18.0</td>\n",
       "      <td>18898.0</td>\n",
       "      <td>1.0</td>\n",
       "      <td>10+ years</td>\n",
       "    </tr>\n",
       "    <tr>\n",
       "      <th>2497</th>\n",
       "      <td>10000.0</td>\n",
       "      <td>10000.00</td>\n",
       "      <td>13.99%</td>\n",
       "      <td>36 months</td>\n",
       "      <td>debt_consolidation</td>\n",
       "      <td>4.89%</td>\n",
       "      <td>PA</td>\n",
       "      <td>MORTGAGE</td>\n",
       "      <td>2166.67</td>\n",
       "      <td>680-684</td>\n",
       "      <td>4.0</td>\n",
       "      <td>4544.0</td>\n",
       "      <td>0.0</td>\n",
       "      <td>10+ years</td>\n",
       "    </tr>\n",
       "    <tr>\n",
       "      <th>2498</th>\n",
       "      <td>6000.0</td>\n",
       "      <td>6000.00</td>\n",
       "      <td>12.42%</td>\n",
       "      <td>36 months</td>\n",
       "      <td>major_purchase</td>\n",
       "      <td>16.66%</td>\n",
       "      <td>NJ</td>\n",
       "      <td>RENT</td>\n",
       "      <td>3500.00</td>\n",
       "      <td>675-679</td>\n",
       "      <td>8.0</td>\n",
       "      <td>7753.0</td>\n",
       "      <td>0.0</td>\n",
       "      <td>5 years</td>\n",
       "    </tr>\n",
       "    <tr>\n",
       "      <th>2499</th>\n",
       "      <td>9000.0</td>\n",
       "      <td>5242.75</td>\n",
       "      <td>13.79%</td>\n",
       "      <td>36 months</td>\n",
       "      <td>debt_consolidation</td>\n",
       "      <td>6.76%</td>\n",
       "      <td>NY</td>\n",
       "      <td>RENT</td>\n",
       "      <td>3875.00</td>\n",
       "      <td>670-674</td>\n",
       "      <td>7.0</td>\n",
       "      <td>7589.0</td>\n",
       "      <td>0.0</td>\n",
       "      <td>10+ years</td>\n",
       "    </tr>\n",
       "  </tbody>\n",
       "</table>\n",
       "<p>2500 rows × 14 columns</p>\n",
       "</div>"
      ],
      "text/plain": [
       "      Amount.Requested  Amount.Funded.By.Investors Interest.Rate Loan.Length  \\\n",
       "0              20000.0                    20000.00         8.90%   36 months   \n",
       "1              19200.0                    19200.00        12.12%   36 months   \n",
       "2              35000.0                    35000.00        21.98%   60 months   \n",
       "3              10000.0                     9975.00         9.99%   36 months   \n",
       "4              12000.0                    12000.00        11.71%   36 months   \n",
       "...                ...                         ...           ...         ...   \n",
       "2495           30000.0                    29950.00        16.77%   60 months   \n",
       "2496           16000.0                    16000.00        14.09%   60 months   \n",
       "2497           10000.0                    10000.00        13.99%   36 months   \n",
       "2498            6000.0                     6000.00        12.42%   36 months   \n",
       "2499            9000.0                     5242.75        13.79%   36 months   \n",
       "\n",
       "            Loan.Purpose Debt.To.Income.Ratio State Home.Ownership  \\\n",
       "0     debt_consolidation               14.90%    SC       MORTGAGE   \n",
       "1     debt_consolidation               28.36%    TX       MORTGAGE   \n",
       "2     debt_consolidation               23.81%    CA       MORTGAGE   \n",
       "3     debt_consolidation               14.30%    KS       MORTGAGE   \n",
       "4            credit_card               18.78%    NJ           RENT   \n",
       "...                  ...                  ...   ...            ...   \n",
       "2495  debt_consolidation               19.23%    NY       MORTGAGE   \n",
       "2496    home_improvement               21.54%    MD            OWN   \n",
       "2497  debt_consolidation                4.89%    PA       MORTGAGE   \n",
       "2498      major_purchase               16.66%    NJ           RENT   \n",
       "2499  debt_consolidation                6.76%    NY           RENT   \n",
       "\n",
       "      Monthly.Income FICO.Range  Open.CREDIT.Lines  Revolving.CREDIT.Balance  \\\n",
       "0            6541.67    735-739               14.0                   14272.0   \n",
       "1            4583.33    715-719               12.0                   11140.0   \n",
       "2           11500.00    690-694               14.0                   21977.0   \n",
       "3            3833.33    695-699               10.0                    9346.0   \n",
       "4            3195.00    695-699               11.0                   14469.0   \n",
       "...              ...        ...                ...                       ...   \n",
       "2495         9250.00    705-709               15.0                   45880.0   \n",
       "2496         8903.25    740-744               18.0                   18898.0   \n",
       "2497         2166.67    680-684                4.0                    4544.0   \n",
       "2498         3500.00    675-679                8.0                    7753.0   \n",
       "2499         3875.00    670-674                7.0                    7589.0   \n",
       "\n",
       "      Inquiries.in.the.Last.6.Months Employment.Length  \n",
       "0                                2.0          < 1 year  \n",
       "1                                1.0           2 years  \n",
       "2                                1.0           2 years  \n",
       "3                                0.0           5 years  \n",
       "4                                0.0           9 years  \n",
       "...                              ...               ...  \n",
       "2495                             1.0           8 years  \n",
       "2496                             1.0         10+ years  \n",
       "2497                             0.0         10+ years  \n",
       "2498                             0.0           5 years  \n",
       "2499                             0.0         10+ years  \n",
       "\n",
       "[2500 rows x 14 columns]"
      ]
     },
     "execution_count": 4,
     "metadata": {},
     "output_type": "execute_result"
    }
   ],
   "source": [
    "bp1"
   ]
  },
  {
   "cell_type": "markdown",
   "id": "732ba3ff",
   "metadata": {},
   "source": [
    "## a"
   ]
  },
  {
   "cell_type": "markdown",
   "id": "33a2802c",
   "metadata": {},
   "source": [
    "Data pre-processing and cleaning"
   ]
  },
  {
   "cell_type": "code",
   "execution_count": 15,
   "id": "e6ab246d",
   "metadata": {},
   "outputs": [],
   "source": [
    "bp1['Interest.Rate'] = np.where(bp1['Interest.Rate'].str.find('%')> -1, bp1['Interest.Rate'].str [:-1], bp1['Interest.Rate'])\n",
    "bp1['Interest.Rate']  = pd.to_numeric(bp1['Interest.Rate'])"
   ]
  },
  {
   "cell_type": "code",
   "execution_count": 22,
   "id": "5307c118",
   "metadata": {},
   "outputs": [],
   "source": [
    "bp1['Interest.Rate'] = bp1['Interest.Rate'].fillna(bp1['Interest.Rate'].mean())\n",
    "bp1['Amount.Requested'] = bp1['Amount.Requested'].fillna(bp1['Amount.Requested'].mean())"
   ]
  },
  {
   "cell_type": "code",
   "execution_count": 27,
   "id": "7aaef84f",
   "metadata": {},
   "outputs": [
    {
     "data": {
      "text/plain": [
       "(0.33244640596656816, 1.4148683739824417e-65)"
      ]
     },
     "execution_count": 27,
     "metadata": {},
     "output_type": "execute_result"
    }
   ],
   "source": [
    "stats.pearsonr(bp1['Amount.Requested'],bp1['Interest.Rate'])"
   ]
  },
  {
   "cell_type": "markdown",
   "id": "2c6f0bbb",
   "metadata": {},
   "source": [
    "Inferences\n",
    "\n",
    "We run the pearson's correlation test to calculate the r value and p value.\n",
    "\n",
    "H0 = there is no relationship between the variables\n",
    "H1 = there is a significant relationship between the variables\n",
    "\n",
    "p = 1.4148683739824417e-65 and r = 0.33\n",
    "\n",
    "p << 0.05 which means this is a significant relationship and r = 0.33 shows slight positive correlation.\n",
    "\n",
    "We reject the null hypothesis.\n",
    "\n",
    "So we can say there is slight positive relationship between loan amounts (predictor) and interest rate (response). \n"
   ]
  },
  {
   "cell_type": "markdown",
   "id": "823ab335",
   "metadata": {},
   "source": [
    "## b"
   ]
  },
  {
   "cell_type": "code",
   "execution_count": 29,
   "id": "84465402",
   "metadata": {},
   "outputs": [
    {
     "data": {
      "text/plain": [
       "36 months    1952\n",
       "60 months     548\n",
       "Name: Loan.Length, dtype: int64"
      ]
     },
     "execution_count": 29,
     "metadata": {},
     "output_type": "execute_result"
    }
   ],
   "source": [
    "bp1['Loan.Length'].value_counts()"
   ]
  },
  {
   "cell_type": "markdown",
   "id": "a7e9ff90",
   "metadata": {},
   "source": [
    "Here we can treat loan length as categorical because the company is only having two options for customers."
   ]
  },
  {
   "cell_type": "code",
   "execution_count": 31,
   "id": "ce7078c0",
   "metadata": {},
   "outputs": [],
   "source": [
    "months_36 = bp1['Interest.Rate'].loc[bp1['Loan.Length'] == \"36 months\"]\n",
    "months_60 = bp1['Interest.Rate'].loc[bp1['Loan.Length'] == \"60 months\"]"
   ]
  },
  {
   "cell_type": "code",
   "execution_count": 33,
   "id": "b8eed44c",
   "metadata": {},
   "outputs": [
    {
     "data": {
      "text/plain": [
       "Ttest_indResult(statistic=-21.95198674784804, pvalue=4.083998134229461e-84)"
      ]
     },
     "execution_count": 33,
     "metadata": {},
     "output_type": "execute_result"
    }
   ],
   "source": [
    "uneq_var = stats.ttest_ind(a= months_36, b= months_60, equal_var=False)    \n",
    "uneq_var"
   ]
  },
  {
   "cell_type": "code",
   "execution_count": 34,
   "id": "1fa4bf38",
   "metadata": {},
   "outputs": [
    {
     "data": {
      "text/plain": [
       "Ttest_indResult(statistic=-23.41049023613487, pvalue=9.549596064332559e-110)"
      ]
     },
     "execution_count": 34,
     "metadata": {},
     "output_type": "execute_result"
    }
   ],
   "source": [
    "eq_var = stats.ttest_ind(a= months_36, b= months_60, equal_var=True)     \n",
    "eq_var "
   ]
  },
  {
   "cell_type": "code",
   "execution_count": 35,
   "id": "6dc0ca0d",
   "metadata": {},
   "outputs": [
    {
     "data": {
      "text/plain": [
       "12.127141791302005"
      ]
     },
     "execution_count": 35,
     "metadata": {},
     "output_type": "execute_result"
    }
   ],
   "source": [
    "months_36.mean()"
   ]
  },
  {
   "cell_type": "code",
   "execution_count": 36,
   "id": "976b62e8",
   "metadata": {},
   "outputs": [
    {
     "data": {
      "text/plain": [
       "16.40746350364961"
      ]
     },
     "execution_count": 36,
     "metadata": {},
     "output_type": "execute_result"
    }
   ],
   "source": [
    "months_60.mean()"
   ]
  },
  {
   "cell_type": "markdown",
   "id": "5f8ce8f5",
   "metadata": {},
   "source": [
    "We run the independent t-test for 2 samples.\n",
    "\n",
    "H0 = both length categories have same mean for interest rates applied\n",
    "\n",
    "H1 = length categories affect the mean for interest rates applied\n",
    "\n",
    "The results we get are as follows: t = -21.95198674784804, p value = 4.083998134229461e-84\n",
    "\n",
    "p << 0.05 so we say this is significant and we reject H0\n",
    "\n",
    "So, we say that the loan length is affecting the interest rate directly with 60 month interest being more on average."
   ]
  },
  {
   "cell_type": "markdown",
   "id": "1d8a177b",
   "metadata": {},
   "source": [
    "## c"
   ]
  },
  {
   "cell_type": "code",
   "execution_count": 63,
   "id": "afc73e68",
   "metadata": {},
   "outputs": [
    {
     "name": "stdout",
     "output_type": "stream",
     "text": [
      "14\n",
      "individual_series[ 0 ],individual_series[ 1 ],individual_series[ 2 ],individual_series[ 3 ],individual_series[ 4 ],individual_series[ 5 ],individual_series[ 6 ],individual_series[ 7 ],individual_series[ 8 ],individual_series[ 9 ],individual_series[ 10 ],individual_series[ 11 ],individual_series[ 12 ],individual_series[ 13 ],"
     ]
    }
   ],
   "source": [
    "possible_purposes = bp1['Loan.Purpose'].unique()\n",
    "\n",
    "individual_series = []\n",
    "for i in possible_purposes:\n",
    "    individual_series.append( bp1['Interest.Rate'].loc[bp1['Loan.Purpose'] == i] )\n",
    "\n",
    "print (len(individual_series))\n",
    "\n",
    "for i in range(0,14):\n",
    "    print (\"individual_series[\",i, \"]\", end =\",\")\n",
    " "
   ]
  },
  {
   "cell_type": "code",
   "execution_count": 64,
   "id": "65393263",
   "metadata": {},
   "outputs": [
    {
     "data": {
      "text/plain": [
       "F_onewayResult(statistic=7.482638784097435, pvalue=1.1599665535989115e-14)"
      ]
     },
     "execution_count": 64,
     "metadata": {},
     "output_type": "execute_result"
    }
   ],
   "source": [
    "stats.f_oneway( individual_series[ 0 ],individual_series[ 1 ],individual_series[ 2 ],individual_series[ 3 ],individual_series[ 4 ],individual_series[ 5 ],individual_series[ 6 ],individual_series[ 7 ],individual_series[ 8 ],individual_series[ 9 ],individual_series[ 10 ],individual_series[ 11 ],individual_series[ 12 ],individual_series[ 13 ])"
   ]
  },
  {
   "cell_type": "markdown",
   "id": "a4e1ac1e",
   "metadata": {},
   "source": [
    "We run the ANOVA test because we have 1 categorical variable (with 14 groups) and 1 continuous numeric variable \n",
    "\n",
    "H0 = loan purpose has no effect on interest rate\n",
    "\n",
    "H1 = loan purpose affects interest rate\n",
    "\n",
    "The results we get are as follows: p value = 1.16 e-14\n",
    "\n",
    "p << 0.05 so we say this is significant and we reject H0\n",
    "\n",
    "So, we say that the loan purpose is affecting the interest rate directly"
   ]
  },
  {
   "cell_type": "markdown",
   "id": "1e3fbead",
   "metadata": {},
   "source": [
    "## d"
   ]
  },
  {
   "cell_type": "code",
   "execution_count": 80,
   "id": "18ea17e3",
   "metadata": {},
   "outputs": [],
   "source": [
    "bp1['FICO.Range'] = bp1['FICO.Range'].fillna(bp1['FICO.Range'].mode()[0])"
   ]
  },
  {
   "cell_type": "code",
   "execution_count": 83,
   "id": "c02c1b03",
   "metadata": {},
   "outputs": [],
   "source": [
    "bp1['Mean value of FICO score'] = (bp1['FICO.Range'].str[4:].astype(int)  + bp1['FICO.Range'].str[:3].astype(int))/2"
   ]
  },
  {
   "cell_type": "code",
   "execution_count": 85,
   "id": "02f76d21",
   "metadata": {},
   "outputs": [
    {
     "data": {
      "text/plain": [
       "MORTGAGE    1147\n",
       "RENT        1146\n",
       "OWN          200\n",
       "OTHER          5\n",
       "NONE           1\n",
       "Name: Home.Ownership, dtype: int64"
      ]
     },
     "execution_count": 85,
     "metadata": {},
     "output_type": "execute_result"
    }
   ],
   "source": [
    "bp1[\"Home.Ownership\"].value_counts()"
   ]
  },
  {
   "cell_type": "code",
   "execution_count": 88,
   "id": "2dcea6ec",
   "metadata": {},
   "outputs": [],
   "source": [
    "mort = bp1['Mean value of FICO score'].loc[bp1['Home.Ownership'] == \"MORTGAGE\"]\n",
    "rent = bp1['Mean value of FICO score'].loc[bp1['Home.Ownership'] == \"RENT\"]\n",
    "own = bp1['Mean value of FICO score'].loc[bp1['Home.Ownership'] == \"OWN\"]\n",
    "oth = bp1['Mean value of FICO score'].loc[bp1['Home.Ownership'] == \"OTHER\"]\n",
    "non = bp1['Mean value of FICO score'].loc[bp1['Home.Ownership'] == \"NONE\"]"
   ]
  },
  {
   "cell_type": "code",
   "execution_count": 89,
   "id": "ff96ba61",
   "metadata": {},
   "outputs": [
    {
     "data": {
      "text/plain": [
       "F_onewayResult(statistic=19.319591748262518, pvalue=1.1459371660127088e-15)"
      ]
     },
     "execution_count": 89,
     "metadata": {},
     "output_type": "execute_result"
    }
   ],
   "source": [
    "stats.f_oneway(mort, rent, own, oth, non)"
   ]
  },
  {
   "cell_type": "code",
   "execution_count": 90,
   "id": "da6994ed",
   "metadata": {},
   "outputs": [
    {
     "name": "stdout",
     "output_type": "stream",
     "text": [
      "713.6608544027899\n",
      "702.0305410122164\n",
      "708.55\n",
      "674.0\n",
      "802.0\n"
     ]
    }
   ],
   "source": [
    "print(mort.mean())\n",
    "print(rent.mean())\n",
    "print(own.mean())\n",
    "print(oth.mean())\n",
    "print(non.mean())"
   ]
  },
  {
   "cell_type": "markdown",
   "id": "a628f386",
   "metadata": {},
   "source": [
    "We first perform some initial feature engineering by converting the categorical variable to a useful numeric variable. This is done by taking the mean value of each interval of FICO scores and using it as a placeholder for FICO score.\n",
    "\n",
    "Then we run the ANOVA test because we have 1 categorical variable (with 5 groups) and 1 continuous numeric variable \n",
    "\n",
    "H0 = ownership status has no effect on FICO score\n",
    "\n",
    "H1 = ownership status affects FICO score\n",
    "\n",
    "The results we get are as follows: p value = 1.15 e-15\n",
    "\n",
    "p << 0.05 so we say this is significant and we reject H0\n",
    "\n",
    "So, we say that the ownership status affects FICO score. People owning houses are having high FICO score but those on mortgage are even higher on the FICO score scale."
   ]
  },
  {
   "cell_type": "markdown",
   "id": "e78c8ed6",
   "metadata": {},
   "source": [
    "# Business Problem 2 "
   ]
  },
  {
   "cell_type": "code",
   "execution_count": 91,
   "id": "9e675679",
   "metadata": {},
   "outputs": [],
   "source": [
    "quotes = pd.read_csv(\"Price_Quotes.csv\")"
   ]
  },
  {
   "cell_type": "code",
   "execution_count": 92,
   "id": "3aaa83c5",
   "metadata": {},
   "outputs": [
    {
     "data": {
      "text/html": [
       "<div>\n",
       "<style scoped>\n",
       "    .dataframe tbody tr th:only-of-type {\n",
       "        vertical-align: middle;\n",
       "    }\n",
       "\n",
       "    .dataframe tbody tr th {\n",
       "        vertical-align: top;\n",
       "    }\n",
       "\n",
       "    .dataframe thead th {\n",
       "        text-align: right;\n",
       "    }\n",
       "</style>\n",
       "<table border=\"1\" class=\"dataframe\">\n",
       "  <thead>\n",
       "    <tr style=\"text-align: right;\">\n",
       "      <th></th>\n",
       "      <th>Order_Number</th>\n",
       "      <th>Barry_Price</th>\n",
       "      <th>Mary_Price</th>\n",
       "    </tr>\n",
       "  </thead>\n",
       "  <tbody>\n",
       "    <tr>\n",
       "      <th>0</th>\n",
       "      <td>1</td>\n",
       "      <td>126</td>\n",
       "      <td>114</td>\n",
       "    </tr>\n",
       "    <tr>\n",
       "      <th>1</th>\n",
       "      <td>2</td>\n",
       "      <td>110</td>\n",
       "      <td>118</td>\n",
       "    </tr>\n",
       "    <tr>\n",
       "      <th>2</th>\n",
       "      <td>3</td>\n",
       "      <td>138</td>\n",
       "      <td>114</td>\n",
       "    </tr>\n",
       "    <tr>\n",
       "      <th>3</th>\n",
       "      <td>4</td>\n",
       "      <td>142</td>\n",
       "      <td>111</td>\n",
       "    </tr>\n",
       "    <tr>\n",
       "      <th>4</th>\n",
       "      <td>5</td>\n",
       "      <td>146</td>\n",
       "      <td>129</td>\n",
       "    </tr>\n",
       "    <tr>\n",
       "      <th>5</th>\n",
       "      <td>6</td>\n",
       "      <td>136</td>\n",
       "      <td>119</td>\n",
       "    </tr>\n",
       "    <tr>\n",
       "      <th>6</th>\n",
       "      <td>7</td>\n",
       "      <td>94</td>\n",
       "      <td>97</td>\n",
       "    </tr>\n",
       "    <tr>\n",
       "      <th>7</th>\n",
       "      <td>8</td>\n",
       "      <td>103</td>\n",
       "      <td>104</td>\n",
       "    </tr>\n",
       "    <tr>\n",
       "      <th>8</th>\n",
       "      <td>9</td>\n",
       "      <td>140</td>\n",
       "      <td>127</td>\n",
       "    </tr>\n",
       "    <tr>\n",
       "      <th>9</th>\n",
       "      <td>10</td>\n",
       "      <td>152</td>\n",
       "      <td>133</td>\n",
       "    </tr>\n",
       "    <tr>\n",
       "      <th>10</th>\n",
       "      <td>11</td>\n",
       "      <td>108</td>\n",
       "      <td>103</td>\n",
       "    </tr>\n",
       "    <tr>\n",
       "      <th>11</th>\n",
       "      <td>12</td>\n",
       "      <td>97</td>\n",
       "      <td>108</td>\n",
       "    </tr>\n",
       "  </tbody>\n",
       "</table>\n",
       "</div>"
      ],
      "text/plain": [
       "    Order_Number  Barry_Price  Mary_Price\n",
       "0              1          126         114\n",
       "1              2          110         118\n",
       "2              3          138         114\n",
       "3              4          142         111\n",
       "4              5          146         129\n",
       "5              6          136         119\n",
       "6              7           94          97\n",
       "7              8          103         104\n",
       "8              9          140         127\n",
       "9             10          152         133\n",
       "10            11          108         103\n",
       "11            12           97         108"
      ]
     },
     "execution_count": 92,
     "metadata": {},
     "output_type": "execute_result"
    }
   ],
   "source": [
    "quotes"
   ]
  },
  {
   "cell_type": "code",
   "execution_count": 93,
   "id": "d5c3239d",
   "metadata": {},
   "outputs": [],
   "source": [
    "barry_price = quotes['Barry_Price']\n",
    "mary_price = quotes['Mary_Price']"
   ]
  },
  {
   "cell_type": "code",
   "execution_count": 94,
   "id": "61aa055d",
   "metadata": {},
   "outputs": [
    {
     "data": {
      "text/plain": [
       "Ttest_relResult(statistic=2.521376510892349, pvalue=0.02840588045242053)"
      ]
     },
     "execution_count": 94,
     "metadata": {},
     "output_type": "execute_result"
    }
   ],
   "source": [
    "stats.ttest_rel(a= barry_price,b= mary_price)"
   ]
  },
  {
   "cell_type": "code",
   "execution_count": 95,
   "id": "bd75de6a",
   "metadata": {},
   "outputs": [
    {
     "name": "stdout",
     "output_type": "stream",
     "text": [
      "Barry's mean quote is  124.33333333333333\n",
      "Mary's mean quote is  114.75\n"
     ]
    }
   ],
   "source": [
    "print(\"Barry's mean quote is  {}\".format(barry_price.mean()))\n",
    "print(\"Mary's mean quote is  {}\".format(mary_price.mean()))"
   ]
  },
  {
   "cell_type": "markdown",
   "id": "86c1a822",
   "metadata": {},
   "source": [
    "We run the paired 2-sample t-test because we have to compare how 2 different people quote the same 12 orders.\n",
    "\n",
    "H0 = Barry and Mary have no significant difference in their quotes \n",
    "\n",
    "H1 = Barry and Mary have a significant difference in their quotes \n",
    "\n",
    "The results we get are as follows: p value = 0.03\n",
    "\n",
    "p < 0.05 so we say this is significant and we reject H0\n",
    "\n",
    "So, we say that the people quoted the items differently. Barry had a higher average on all orders so he was quoting higher."
   ]
  },
  {
   "cell_type": "markdown",
   "id": "27869784",
   "metadata": {},
   "source": [
    "# Business Problem 3"
   ]
  },
  {
   "cell_type": "code",
   "execution_count": 96,
   "id": "3137299b",
   "metadata": {},
   "outputs": [],
   "source": [
    "treat = pd.read_csv(\"Treatment_Facility.csv\")"
   ]
  },
  {
   "cell_type": "code",
   "execution_count": 97,
   "id": "892d4fc2",
   "metadata": {},
   "outputs": [
    {
     "data": {
      "text/html": [
       "<div>\n",
       "<style scoped>\n",
       "    .dataframe tbody tr th:only-of-type {\n",
       "        vertical-align: middle;\n",
       "    }\n",
       "\n",
       "    .dataframe tbody tr th {\n",
       "        vertical-align: top;\n",
       "    }\n",
       "\n",
       "    .dataframe thead th {\n",
       "        text-align: right;\n",
       "    }\n",
       "</style>\n",
       "<table border=\"1\" class=\"dataframe\">\n",
       "  <thead>\n",
       "    <tr style=\"text-align: right;\">\n",
       "      <th></th>\n",
       "      <th>Month</th>\n",
       "      <th>Reengineer</th>\n",
       "      <th>Employee_Turnover</th>\n",
       "      <th>VAR4</th>\n",
       "      <th>VAR5</th>\n",
       "    </tr>\n",
       "  </thead>\n",
       "  <tbody>\n",
       "    <tr>\n",
       "      <th>0</th>\n",
       "      <td>1</td>\n",
       "      <td>Prior</td>\n",
       "      <td>0.0000</td>\n",
       "      <td>24.390244</td>\n",
       "      <td>42.682927</td>\n",
       "    </tr>\n",
       "    <tr>\n",
       "      <th>1</th>\n",
       "      <td>2</td>\n",
       "      <td>Prior</td>\n",
       "      <td>6.0606</td>\n",
       "      <td>19.354839</td>\n",
       "      <td>25.806452</td>\n",
       "    </tr>\n",
       "    <tr>\n",
       "      <th>2</th>\n",
       "      <td>3</td>\n",
       "      <td>Prior</td>\n",
       "      <td>12.1212</td>\n",
       "      <td>35.087719</td>\n",
       "      <td>146.198830</td>\n",
       "    </tr>\n",
       "    <tr>\n",
       "      <th>3</th>\n",
       "      <td>4</td>\n",
       "      <td>Prior</td>\n",
       "      <td>3.3333</td>\n",
       "      <td>18.404908</td>\n",
       "      <td>110.429448</td>\n",
       "    </tr>\n",
       "    <tr>\n",
       "      <th>4</th>\n",
       "      <td>5</td>\n",
       "      <td>Prior</td>\n",
       "      <td>12.9032</td>\n",
       "      <td>17.964072</td>\n",
       "      <td>23.952096</td>\n",
       "    </tr>\n",
       "    <tr>\n",
       "      <th>5</th>\n",
       "      <td>6</td>\n",
       "      <td>Prior</td>\n",
       "      <td>9.6774</td>\n",
       "      <td>41.176471</td>\n",
       "      <td>47.058824</td>\n",
       "    </tr>\n",
       "    <tr>\n",
       "      <th>6</th>\n",
       "      <td>7</td>\n",
       "      <td>Prior</td>\n",
       "      <td>11.7647</td>\n",
       "      <td>13.422819</td>\n",
       "      <td>0.000000</td>\n",
       "    </tr>\n",
       "    <tr>\n",
       "      <th>7</th>\n",
       "      <td>8</td>\n",
       "      <td>Prior</td>\n",
       "      <td>11.4286</td>\n",
       "      <td>31.250000</td>\n",
       "      <td>25.000000</td>\n",
       "    </tr>\n",
       "    <tr>\n",
       "      <th>8</th>\n",
       "      <td>9</td>\n",
       "      <td>Prior</td>\n",
       "      <td>23.0769</td>\n",
       "      <td>17.241379</td>\n",
       "      <td>132.183908</td>\n",
       "    </tr>\n",
       "    <tr>\n",
       "      <th>9</th>\n",
       "      <td>10</td>\n",
       "      <td>Prior</td>\n",
       "      <td>15.0000</td>\n",
       "      <td>16.574586</td>\n",
       "      <td>16.574586</td>\n",
       "    </tr>\n",
       "    <tr>\n",
       "      <th>10</th>\n",
       "      <td>11</td>\n",
       "      <td>Prior</td>\n",
       "      <td>10.0000</td>\n",
       "      <td>5.917160</td>\n",
       "      <td>88.757396</td>\n",
       "    </tr>\n",
       "    <tr>\n",
       "      <th>11</th>\n",
       "      <td>12</td>\n",
       "      <td>Prior</td>\n",
       "      <td>26.0870</td>\n",
       "      <td>21.164021</td>\n",
       "      <td>31.746032</td>\n",
       "    </tr>\n",
       "    <tr>\n",
       "      <th>12</th>\n",
       "      <td>13</td>\n",
       "      <td>Prior</td>\n",
       "      <td>11.1111</td>\n",
       "      <td>5.076142</td>\n",
       "      <td>10.152284</td>\n",
       "    </tr>\n",
       "    <tr>\n",
       "      <th>13</th>\n",
       "      <td>14</td>\n",
       "      <td>Post</td>\n",
       "      <td>26.6667</td>\n",
       "      <td>9.708738</td>\n",
       "      <td>29.126214</td>\n",
       "    </tr>\n",
       "    <tr>\n",
       "      <th>14</th>\n",
       "      <td>15</td>\n",
       "      <td>Post</td>\n",
       "      <td>17.9487</td>\n",
       "      <td>4.201681</td>\n",
       "      <td>21.008403</td>\n",
       "    </tr>\n",
       "    <tr>\n",
       "      <th>15</th>\n",
       "      <td>16</td>\n",
       "      <td>Post</td>\n",
       "      <td>12.8205</td>\n",
       "      <td>13.043478</td>\n",
       "      <td>34.782609</td>\n",
       "    </tr>\n",
       "    <tr>\n",
       "      <th>16</th>\n",
       "      <td>17</td>\n",
       "      <td>Post</td>\n",
       "      <td>15.7895</td>\n",
       "      <td>9.950249</td>\n",
       "      <td>19.900498</td>\n",
       "    </tr>\n",
       "    <tr>\n",
       "      <th>17</th>\n",
       "      <td>18</td>\n",
       "      <td>Post</td>\n",
       "      <td>0.0000</td>\n",
       "      <td>9.950249</td>\n",
       "      <td>9.950249</td>\n",
       "    </tr>\n",
       "    <tr>\n",
       "      <th>18</th>\n",
       "      <td>19</td>\n",
       "      <td>Post</td>\n",
       "      <td>30.7692</td>\n",
       "      <td>8.510638</td>\n",
       "      <td>25.531915</td>\n",
       "    </tr>\n",
       "    <tr>\n",
       "      <th>19</th>\n",
       "      <td>20</td>\n",
       "      <td>Post</td>\n",
       "      <td>26.8293</td>\n",
       "      <td>9.259259</td>\n",
       "      <td>23.148148</td>\n",
       "    </tr>\n",
       "  </tbody>\n",
       "</table>\n",
       "</div>"
      ],
      "text/plain": [
       "    Month Reengineer  Employee_Turnover       VAR4        VAR5\n",
       "0       1      Prior             0.0000  24.390244   42.682927\n",
       "1       2      Prior             6.0606  19.354839   25.806452\n",
       "2       3      Prior            12.1212  35.087719  146.198830\n",
       "3       4      Prior             3.3333  18.404908  110.429448\n",
       "4       5      Prior            12.9032  17.964072   23.952096\n",
       "5       6      Prior             9.6774  41.176471   47.058824\n",
       "6       7      Prior            11.7647  13.422819    0.000000\n",
       "7       8      Prior            11.4286  31.250000   25.000000\n",
       "8       9      Prior            23.0769  17.241379  132.183908\n",
       "9      10      Prior            15.0000  16.574586   16.574586\n",
       "10     11      Prior            10.0000   5.917160   88.757396\n",
       "11     12      Prior            26.0870  21.164021   31.746032\n",
       "12     13      Prior            11.1111   5.076142   10.152284\n",
       "13     14       Post            26.6667   9.708738   29.126214\n",
       "14     15       Post            17.9487   4.201681   21.008403\n",
       "15     16       Post            12.8205  13.043478   34.782609\n",
       "16     17       Post            15.7895   9.950249   19.900498\n",
       "17     18       Post             0.0000   9.950249    9.950249\n",
       "18     19       Post            30.7692   8.510638   25.531915\n",
       "19     20       Post            26.8293   9.259259   23.148148"
      ]
     },
     "execution_count": 97,
     "metadata": {},
     "output_type": "execute_result"
    }
   ],
   "source": [
    "treat"
   ]
  },
  {
   "cell_type": "code",
   "execution_count": 219,
   "id": "0f136b89",
   "metadata": {},
   "outputs": [],
   "source": [
    "treat.columns = ['Month','Reengineer','Employee_Turnover','TRFF', 'CI' ]"
   ]
  },
  {
   "cell_type": "code",
   "execution_count": 221,
   "id": "00600db8",
   "metadata": {},
   "outputs": [],
   "source": [
    "prior_emp = treat.Employee_Turnover.loc[(treat.Reengineer == \"Prior\")]\n",
    "post_emp = treat.Employee_Turnover.loc[(treat.Reengineer == \"Post\")]"
   ]
  },
  {
   "cell_type": "code",
   "execution_count": 222,
   "id": "9226be17",
   "metadata": {},
   "outputs": [
    {
     "data": {
      "text/plain": [
       "Ttest_indResult(statistic=-1.5653912078421088, pvalue=0.15207128913702453)"
      ]
     },
     "execution_count": 222,
     "metadata": {},
     "output_type": "execute_result"
    }
   ],
   "source": [
    "uneq_var = stats.ttest_ind(a= prior_emp,b= post_emp, equal_var=False) # Unequal variance\n",
    "uneq_var"
   ]
  },
  {
   "cell_type": "code",
   "execution_count": 223,
   "id": "569d9755",
   "metadata": {},
   "outputs": [
    {
     "data": {
      "text/plain": [
       "Ttest_indResult(statistic=-1.770306704753604, pvalue=0.09361109345535304)"
      ]
     },
     "execution_count": 223,
     "metadata": {},
     "output_type": "execute_result"
    }
   ],
   "source": [
    "eq_var = stats.ttest_ind(a= prior_emp,b= post_emp, equal_var=True) # equal variance\n",
    "eq_var"
   ]
  },
  {
   "cell_type": "markdown",
   "id": "6ec91302",
   "metadata": {},
   "source": [
    "We run the independent 2-sample t-test because we have to compare employee turnover for pre and post changes (but not in a paired manner).\n",
    "\n",
    "H0 = There has been no change in the turnover between pre and post re-engineering \n",
    "\n",
    "H1 = There has been a change in the turnover between pre and post re-engineering \n",
    "\n",
    "We see that there is unequal variance due to difference in t value.\n",
    "The results we get are as follows: p value = 0.15\n",
    "\n",
    "p > 0.05 so we say this is not significant and we accept H0\n",
    "\n",
    "So, the employee turnover has had no significant change."
   ]
  },
  {
   "cell_type": "code",
   "execution_count": 228,
   "id": "68840fdb",
   "metadata": {},
   "outputs": [
    {
     "name": "stdout",
     "output_type": "stream",
     "text": [
      "Unequal variance test:\n",
      "Ttest_indResult(statistic=2.209006531430452, pvalue=0.045565519570193176)\n",
      "Equal variance test:\n",
      "Ttest_indResult(statistic=1.6279144253528646, pvalue=0.12091989189884149) \n",
      "\n",
      "53.887906321846145 23.34971927988571\n"
     ]
    }
   ],
   "source": [
    "prior_ci = treat.CI.loc[(treat.Reengineer == \"Prior\")]\n",
    "post_ci = treat.CI.loc[(treat.Reengineer == \"Post\")]\n",
    "\n",
    "uneq_var = stats.ttest_ind(a= prior_ci,b= post_ci, equal_var=False)  \n",
    "print(\"Unequal variance test:\")\n",
    "print(uneq_var)\n",
    "eq_var = stats.ttest_ind(a= prior_ci,b= post_ci, equal_var=True)  \n",
    "print(\"Equal variance test:\")\n",
    "print(eq_var, \"\\n\")\n",
    "print(prior_ci.mean(), post_ci.mean())"
   ]
  },
  {
   "cell_type": "markdown",
   "id": "42c33604",
   "metadata": {},
   "source": [
    "We run the independent 2-sample t-test because we have to compare critical incidents no. for pre and post changes (but not in a paired manner).\n",
    "\n",
    "H0 = There has been no change in the CI rate between pre and post re-engineering \n",
    "\n",
    "H1 = There has been a change in the CI rate between pre and post re-engineering \n",
    "\n",
    "We see that there is unequal variance due to difference in t value.\n",
    "The results we get from unequal variance (Welch's) are as follows: p value = 0.045\n",
    "\n",
    "p < 0.05 so we say this is significant and we reject H0\n",
    "\n",
    "So, the CI has had a significant change after the re-engineering and CI rate has fallen."
   ]
  },
  {
   "cell_type": "code",
   "execution_count": 230,
   "id": "3544cd5f",
   "metadata": {},
   "outputs": [
    {
     "name": "stdout",
     "output_type": "stream",
     "text": [
      "Unequal variance test:\n",
      "Ttest_indResult(statistic=3.690382530309883, pvalue=0.0022744273676772084)\n",
      "Equal variance test:\n",
      "Ttest_indResult(statistic=2.7833984488804506, pvalue=0.012265082138734354) \n",
      "\n",
      "20.54033531733077 9.232041695285714\n"
     ]
    }
   ],
   "source": [
    "prior_tf = treat.TRFF.loc[(treat.Reengineer == \"Prior\")]\n",
    "post_tf = treat.TRFF.loc[(treat.Reengineer == \"Post\")]\n",
    "\n",
    "uneq_var = stats.ttest_ind(a= prior_tf,b= post_tf, equal_var=False)  \n",
    "print(\"Unequal variance test:\")\n",
    "print(uneq_var)\n",
    "eq_var = stats.ttest_ind(a= prior_tf,b= post_tf, equal_var=True)  \n",
    "print(\"Equal variance test:\")\n",
    "print(eq_var, \"\\n\")\n",
    "print(prior_tf.mean(), post_tf.mean())"
   ]
  },
  {
   "cell_type": "markdown",
   "id": "855ed092",
   "metadata": {},
   "source": [
    "We run the independent 2-sample t-test because we have to compare removals (TRFF) for pre and post changes\n",
    "\n",
    "H0 = There has been no change in the TRFF rate between pre and post re-engineering \n",
    "\n",
    "H1 = There has been a change in the TRFF rate between pre and post re-engineering \n",
    "\n",
    "We see that there is unequal variance due to difference in t value.\n",
    "The results we get from unequal variance (Welch's) are as follows: p value = 0.002\n",
    "\n",
    "p < 0.05 so we say this is significant and we reject H0\n",
    "\n",
    "So, the TRFF has had a significant change after the re-engineering and TRFF rate has fallen."
   ]
  },
  {
   "cell_type": "markdown",
   "id": "fa9b8ff1",
   "metadata": {},
   "source": [
    "### Overall inference\n",
    "The staff turnover had no significant change, but the re-engineering efforts helped reduce behavioural problems."
   ]
  },
  {
   "cell_type": "markdown",
   "id": "1ab45fba",
   "metadata": {},
   "source": [
    "# Business Problem 4"
   ]
  },
  {
   "cell_type": "code",
   "execution_count": 101,
   "id": "14ec288f",
   "metadata": {},
   "outputs": [],
   "source": [
    "prioritydf = pd.read_csv(\"Priority_Assessment.csv\")"
   ]
  },
  {
   "cell_type": "code",
   "execution_count": 102,
   "id": "5becb2ef",
   "metadata": {},
   "outputs": [
    {
     "data": {
      "text/html": [
       "<div>\n",
       "<style scoped>\n",
       "    .dataframe tbody tr th:only-of-type {\n",
       "        vertical-align: middle;\n",
       "    }\n",
       "\n",
       "    .dataframe tbody tr th {\n",
       "        vertical-align: top;\n",
       "    }\n",
       "\n",
       "    .dataframe thead th {\n",
       "        text-align: right;\n",
       "    }\n",
       "</style>\n",
       "<table border=\"1\" class=\"dataframe\">\n",
       "  <thead>\n",
       "    <tr style=\"text-align: right;\">\n",
       "      <th></th>\n",
       "      <th>Days</th>\n",
       "      <th>Priority</th>\n",
       "    </tr>\n",
       "  </thead>\n",
       "  <tbody>\n",
       "    <tr>\n",
       "      <th>0</th>\n",
       "      <td>3.3</td>\n",
       "      <td>High</td>\n",
       "    </tr>\n",
       "    <tr>\n",
       "      <th>1</th>\n",
       "      <td>7.9</td>\n",
       "      <td>Medium</td>\n",
       "    </tr>\n",
       "    <tr>\n",
       "      <th>2</th>\n",
       "      <td>0.3</td>\n",
       "      <td>High</td>\n",
       "    </tr>\n",
       "    <tr>\n",
       "      <th>3</th>\n",
       "      <td>0.7</td>\n",
       "      <td>Medium</td>\n",
       "    </tr>\n",
       "    <tr>\n",
       "      <th>4</th>\n",
       "      <td>8.6</td>\n",
       "      <td>Medium</td>\n",
       "    </tr>\n",
       "    <tr>\n",
       "      <th>...</th>\n",
       "      <td>...</td>\n",
       "      <td>...</td>\n",
       "    </tr>\n",
       "    <tr>\n",
       "      <th>637</th>\n",
       "      <td>2.5</td>\n",
       "      <td>Low</td>\n",
       "    </tr>\n",
       "    <tr>\n",
       "      <th>638</th>\n",
       "      <td>0.3</td>\n",
       "      <td>High</td>\n",
       "    </tr>\n",
       "    <tr>\n",
       "      <th>639</th>\n",
       "      <td>0.3</td>\n",
       "      <td>Medium</td>\n",
       "    </tr>\n",
       "    <tr>\n",
       "      <th>640</th>\n",
       "      <td>1.3</td>\n",
       "      <td>Medium</td>\n",
       "    </tr>\n",
       "    <tr>\n",
       "      <th>641</th>\n",
       "      <td>0.5</td>\n",
       "      <td>High</td>\n",
       "    </tr>\n",
       "  </tbody>\n",
       "</table>\n",
       "<p>642 rows × 2 columns</p>\n",
       "</div>"
      ],
      "text/plain": [
       "     Days Priority\n",
       "0     3.3     High\n",
       "1     7.9   Medium\n",
       "2     0.3     High\n",
       "3     0.7   Medium\n",
       "4     8.6   Medium\n",
       "..    ...      ...\n",
       "637   2.5      Low\n",
       "638   0.3     High\n",
       "639   0.3   Medium\n",
       "640   1.3   Medium\n",
       "641   0.5     High\n",
       "\n",
       "[642 rows x 2 columns]"
      ]
     },
     "execution_count": 102,
     "metadata": {},
     "output_type": "execute_result"
    }
   ],
   "source": [
    "prioritydf"
   ]
  },
  {
   "cell_type": "code",
   "execution_count": 105,
   "id": "c384bab1",
   "metadata": {},
   "outputs": [],
   "source": [
    "high = prioritydf['Days'].loc[prioritydf['Priority']== \"High\"]\n",
    "med = prioritydf['Days'].loc[prioritydf['Priority']== \"Medium\"]\n",
    "low = prioritydf['Days'].loc[prioritydf['Priority']== \"Low\"]"
   ]
  },
  {
   "cell_type": "code",
   "execution_count": 110,
   "id": "7eafd2ef",
   "metadata": {},
   "outputs": [
    {
     "data": {
      "text/plain": [
       "F_onewayResult(statistic=1.812311010076072, pvalue=0.16411459461716182)"
      ]
     },
     "execution_count": 110,
     "metadata": {},
     "output_type": "execute_result"
    }
   ],
   "source": [
    "stats.f_oneway(high, med, low)"
   ]
  },
  {
   "cell_type": "code",
   "execution_count": 109,
   "id": "f9815bb6",
   "metadata": {},
   "outputs": [
    {
     "name": "stdout",
     "output_type": "stream",
     "text": [
      "High priority jobs are completed on average in 3.023619631901845 days\n",
      "Medium priority jobs are completed on average in 2.5000000000000004 days\n",
      "Low priority jobs are completed on average in 4.228358208955225 days\n"
     ]
    }
   ],
   "source": [
    "print(\"High priority jobs are completed on average in {} days\".format(high.mean()))\n",
    "print(\"Medium priority jobs are completed on average in {} days\".format(med.mean()))\n",
    "print(\"Low priority jobs are completed on average in {} days\".format(low.mean()))"
   ]
  },
  {
   "cell_type": "markdown",
   "id": "c2570097",
   "metadata": {},
   "source": [
    "We run the ANOVA test because we have 1 categorical variable and 1 continuous numeric variable \n",
    "\n",
    "H0: the means of the different priorities are not statistically different\n",
    "\n",
    "H1: the means of the different priorities are statistically different\n",
    "\n",
    "The results we get are as follows: p value = 0.16\n",
    "\n",
    "p > 0.05 so we say this is not significant and we accept H0\n",
    "\n",
    "So, we say that the no. of days taken for each priority level are not statistically different. The priority level is not really affecting the days taken (assuming our chosen CI of 95%)"
   ]
  },
  {
   "cell_type": "markdown",
   "id": "82a123a4",
   "metadata": {},
   "source": [
    "# Business Problem 5"
   ]
  },
  {
   "cell_type": "markdown",
   "id": "819be08a",
   "metadata": {},
   "source": [
    "## Q1"
   ]
  },
  {
   "cell_type": "code",
   "execution_count": 113,
   "id": "7fa2112f",
   "metadata": {},
   "outputs": [
    {
     "data": {
      "text/html": [
       "<div>\n",
       "<style scoped>\n",
       "    .dataframe tbody tr th:only-of-type {\n",
       "        vertical-align: middle;\n",
       "    }\n",
       "\n",
       "    .dataframe tbody tr th {\n",
       "        vertical-align: top;\n",
       "    }\n",
       "\n",
       "    .dataframe thead th {\n",
       "        text-align: right;\n",
       "    }\n",
       "</style>\n",
       "<table border=\"1\" class=\"dataframe\">\n",
       "  <thead>\n",
       "    <tr style=\"text-align: right;\">\n",
       "      <th></th>\n",
       "      <th>_rowstate_</th>\n",
       "      <th>Movie</th>\n",
       "      <th>Gender</th>\n",
       "      <th>Marital_Status</th>\n",
       "      <th>Sinage</th>\n",
       "      <th>Parking</th>\n",
       "      <th>Clean</th>\n",
       "      <th>Overall</th>\n",
       "      <th>Age</th>\n",
       "      <th>Income</th>\n",
       "      <th>Hear_About</th>\n",
       "    </tr>\n",
       "  </thead>\n",
       "  <tbody>\n",
       "    <tr>\n",
       "      <th>0</th>\n",
       "      <td>0</td>\n",
       "      <td>Ferris Buellers Day Off</td>\n",
       "      <td>Female</td>\n",
       "      <td>Married</td>\n",
       "      <td>2.0</td>\n",
       "      <td>2.0</td>\n",
       "      <td>2.0</td>\n",
       "      <td>2.0</td>\n",
       "      <td>3.0</td>\n",
       "      <td>1.0</td>\n",
       "      <td>5</td>\n",
       "    </tr>\n",
       "    <tr>\n",
       "      <th>1</th>\n",
       "      <td>0</td>\n",
       "      <td>Ferris Buellers Day Off</td>\n",
       "      <td>Female</td>\n",
       "      <td>Single</td>\n",
       "      <td>1.0</td>\n",
       "      <td>1.0</td>\n",
       "      <td>1.0</td>\n",
       "      <td>1.0</td>\n",
       "      <td>2.0</td>\n",
       "      <td>1.0</td>\n",
       "      <td>5</td>\n",
       "    </tr>\n",
       "    <tr>\n",
       "      <th>2</th>\n",
       "      <td>0</td>\n",
       "      <td>Ferris Buellers Day Off</td>\n",
       "      <td>Male</td>\n",
       "      <td>Married</td>\n",
       "      <td>2.0</td>\n",
       "      <td>4.0</td>\n",
       "      <td>3.0</td>\n",
       "      <td>2.0</td>\n",
       "      <td>4.0</td>\n",
       "      <td>1.0</td>\n",
       "      <td>5</td>\n",
       "    </tr>\n",
       "    <tr>\n",
       "      <th>3</th>\n",
       "      <td>0</td>\n",
       "      <td>Ferris Buellers Day Off</td>\n",
       "      <td>Female</td>\n",
       "      <td>Married</td>\n",
       "      <td>1.0</td>\n",
       "      <td>3.0</td>\n",
       "      <td>2.0</td>\n",
       "      <td>2.0</td>\n",
       "      <td>4.0</td>\n",
       "      <td>1.0</td>\n",
       "      <td>5</td>\n",
       "    </tr>\n",
       "    <tr>\n",
       "      <th>4</th>\n",
       "      <td>0</td>\n",
       "      <td>Ferris Buellers Day Off</td>\n",
       "      <td>Female</td>\n",
       "      <td>Married</td>\n",
       "      <td>1.0</td>\n",
       "      <td>1.0</td>\n",
       "      <td>1.0</td>\n",
       "      <td>1.0</td>\n",
       "      <td>3.0</td>\n",
       "      <td>3.0</td>\n",
       "      <td>1</td>\n",
       "    </tr>\n",
       "    <tr>\n",
       "      <th>...</th>\n",
       "      <td>...</td>\n",
       "      <td>...</td>\n",
       "      <td>...</td>\n",
       "      <td>...</td>\n",
       "      <td>...</td>\n",
       "      <td>...</td>\n",
       "      <td>...</td>\n",
       "      <td>...</td>\n",
       "      <td>...</td>\n",
       "      <td>...</td>\n",
       "      <td>...</td>\n",
       "    </tr>\n",
       "    <tr>\n",
       "      <th>325</th>\n",
       "      <td>0</td>\n",
       "      <td>Old School</td>\n",
       "      <td>2</td>\n",
       "      <td>2</td>\n",
       "      <td>1.0</td>\n",
       "      <td>2.0</td>\n",
       "      <td>1.0</td>\n",
       "      <td>1.0</td>\n",
       "      <td>2.0</td>\n",
       "      <td>1.0</td>\n",
       "      <td>1</td>\n",
       "    </tr>\n",
       "    <tr>\n",
       "      <th>326</th>\n",
       "      <td>0</td>\n",
       "      <td>Old School</td>\n",
       "      <td>1</td>\n",
       "      <td>1</td>\n",
       "      <td>2.0</td>\n",
       "      <td>2.0</td>\n",
       "      <td>2.0</td>\n",
       "      <td>2.0</td>\n",
       "      <td>3.0</td>\n",
       "      <td>3.0</td>\n",
       "      <td>5</td>\n",
       "    </tr>\n",
       "    <tr>\n",
       "      <th>327</th>\n",
       "      <td>0</td>\n",
       "      <td>Old School</td>\n",
       "      <td>2</td>\n",
       "      <td>1</td>\n",
       "      <td>2.0</td>\n",
       "      <td>1.0</td>\n",
       "      <td>1.0</td>\n",
       "      <td>2.0</td>\n",
       "      <td>2.0</td>\n",
       "      <td>2.0</td>\n",
       "      <td>5</td>\n",
       "    </tr>\n",
       "    <tr>\n",
       "      <th>328</th>\n",
       "      <td>0</td>\n",
       "      <td>Old School</td>\n",
       "      <td>1</td>\n",
       "      <td>1</td>\n",
       "      <td>1.0</td>\n",
       "      <td>1.0</td>\n",
       "      <td>1.0</td>\n",
       "      <td>1.0</td>\n",
       "      <td>2.0</td>\n",
       "      <td>1.0</td>\n",
       "      <td>3</td>\n",
       "    </tr>\n",
       "    <tr>\n",
       "      <th>329</th>\n",
       "      <td>0</td>\n",
       "      <td>Old School</td>\n",
       "      <td>2</td>\n",
       "      <td>2</td>\n",
       "      <td>2.0</td>\n",
       "      <td>2.0</td>\n",
       "      <td>3.0</td>\n",
       "      <td>1.0</td>\n",
       "      <td>2.0</td>\n",
       "      <td>1.0</td>\n",
       "      <td>5</td>\n",
       "    </tr>\n",
       "  </tbody>\n",
       "</table>\n",
       "<p>330 rows × 11 columns</p>\n",
       "</div>"
      ],
      "text/plain": [
       "     _rowstate_                    Movie  Gender Marital_Status  Sinage  \\\n",
       "0             0  Ferris Buellers Day Off  Female        Married     2.0   \n",
       "1             0  Ferris Buellers Day Off  Female         Single     1.0   \n",
       "2             0  Ferris Buellers Day Off    Male        Married     2.0   \n",
       "3             0  Ferris Buellers Day Off  Female        Married     1.0   \n",
       "4             0  Ferris Buellers Day Off  Female        Married     1.0   \n",
       "..          ...                      ...     ...            ...     ...   \n",
       "325           0               Old School       2              2     1.0   \n",
       "326           0               Old School       1              1     2.0   \n",
       "327           0               Old School       2              1     2.0   \n",
       "328           0               Old School       1              1     1.0   \n",
       "329           0               Old School       2              2     2.0   \n",
       "\n",
       "     Parking  Clean  Overall  Age  Income Hear_About  \n",
       "0        2.0    2.0      2.0  3.0     1.0          5  \n",
       "1        1.0    1.0      1.0  2.0     1.0          5  \n",
       "2        4.0    3.0      2.0  4.0     1.0          5  \n",
       "3        3.0    2.0      2.0  4.0     1.0          5  \n",
       "4        1.0    1.0      1.0  3.0     3.0          1  \n",
       "..       ...    ...      ...  ...     ...        ...  \n",
       "325      2.0    1.0      1.0  2.0     1.0          1  \n",
       "326      2.0    2.0      2.0  3.0     3.0          5  \n",
       "327      1.0    1.0      2.0  2.0     2.0          5  \n",
       "328      1.0    1.0      1.0  2.0     1.0          3  \n",
       "329      2.0    3.0      1.0  2.0     1.0          5  \n",
       "\n",
       "[330 rows x 11 columns]"
      ]
     },
     "execution_count": 113,
     "metadata": {},
     "output_type": "execute_result"
    }
   ],
   "source": [
    "films = pd.read_csv(\"Films.csv\")\n",
    "films"
   ]
  },
  {
   "cell_type": "code",
   "execution_count": 119,
   "id": "be27f609",
   "metadata": {},
   "outputs": [
    {
     "data": {
      "text/plain": [
       "2.0"
      ]
     },
     "execution_count": 119,
     "metadata": {},
     "output_type": "execute_result"
    }
   ],
   "source": [
    "films['Overall'].median()"
   ]
  },
  {
   "cell_type": "markdown",
   "id": "9255e401",
   "metadata": {},
   "source": [
    "The overall customer satisfaction has been at level 2 (which is the median and the mode).\n",
    "\n",
    "This means it is 'good'"
   ]
  },
  {
   "cell_type": "markdown",
   "id": "e9d17a66",
   "metadata": {},
   "source": [
    "## Q2"
   ]
  },
  {
   "cell_type": "code",
   "execution_count": 129,
   "id": "30975bba",
   "metadata": {},
   "outputs": [],
   "source": [
    "films['Gender'] = pd.Series(np.where( (films['Gender'] == 'Male') | (films['Gender'] == '1') ,1,2))"
   ]
  },
  {
   "cell_type": "code",
   "execution_count": 131,
   "id": "d91926eb",
   "metadata": {},
   "outputs": [],
   "source": [
    "from sklearn import preprocessing\n",
    "label_encoder = preprocessing.LabelEncoder()\n",
    "movie_name = label_encoder.fit_transform(films['Movie'])"
   ]
  },
  {
   "cell_type": "code",
   "execution_count": 132,
   "id": "60ddcf06",
   "metadata": {},
   "outputs": [],
   "source": [
    "films['Marital_Status'] = pd.Series(np.where( (films['Marital_Status'] == 'Married') | (films['Marital_Status'] == '1') ,1,2))"
   ]
  },
  {
   "cell_type": "code",
   "execution_count": 134,
   "id": "ae676425",
   "metadata": {},
   "outputs": [],
   "source": [
    "films['Movie_name_encoded'] = movie_name"
   ]
  },
  {
   "cell_type": "code",
   "execution_count": 145,
   "id": "87ba7737",
   "metadata": {},
   "outputs": [
    {
     "data": {
      "text/plain": [
       "_rowstate_             0\n",
       "Movie                  0\n",
       "Gender                 0\n",
       "Marital_Status         0\n",
       "Sinage                 2\n",
       "Parking                2\n",
       "Clean                  3\n",
       "Overall                2\n",
       "Age                    2\n",
       "Income                16\n",
       "Hear_About             7\n",
       "Movie_name_encoded     0\n",
       "dtype: int64"
      ]
     },
     "execution_count": 145,
     "metadata": {},
     "output_type": "execute_result"
    }
   ],
   "source": [
    "films.isnull().sum()"
   ]
  },
  {
   "cell_type": "code",
   "execution_count": 148,
   "id": "e4bf90d2",
   "metadata": {},
   "outputs": [],
   "source": [
    "films.Age = films.Age.fillna(films.Age.median())\n",
    "films.Income = films.Income.fillna(films.Income.median())\n",
    "films.Overall = films.Overall.fillna(films.Overall.median())\n",
    "films.Sinage = films.Sinage.fillna(films.Sinage.median())\n",
    "films.Parking = films.Parking.fillna(films.Parking.median())\n",
    "films.Clean = films.Clean.fillna(films.Clean.median())"
   ]
  },
  {
   "cell_type": "code",
   "execution_count": 150,
   "id": "d12bd1fb",
   "metadata": {},
   "outputs": [
    {
     "name": "stderr",
     "output_type": "stream",
     "text": [
      "/Users/arjun/opt/anaconda3/lib/python3.9/site-packages/statsmodels/tsa/tsatools.py:142: FutureWarning: In a future version of pandas all arguments of concat except for the argument 'objs' will be keyword-only\n",
      "  x = pd.concat(x[::order], 1)\n"
     ]
    },
    {
     "data": {
      "text/html": [
       "<table class=\"simpletable\">\n",
       "<caption>OLS Regression Results</caption>\n",
       "<tr>\n",
       "  <th>Dep. Variable:</th>         <td>Overall</td>     <th>  R-squared:         </th> <td>   0.307</td>\n",
       "</tr>\n",
       "<tr>\n",
       "  <th>Model:</th>                   <td>OLS</td>       <th>  Adj. R-squared:    </th> <td>   0.289</td>\n",
       "</tr>\n",
       "<tr>\n",
       "  <th>Method:</th>             <td>Least Squares</td>  <th>  F-statistic:       </th> <td>   17.75</td>\n",
       "</tr>\n",
       "<tr>\n",
       "  <th>Date:</th>             <td>Mon, 12 Sep 2022</td> <th>  Prob (F-statistic):</th> <td>6.41e-22</td>\n",
       "</tr>\n",
       "<tr>\n",
       "  <th>Time:</th>                 <td>17:15:46</td>     <th>  Log-Likelihood:    </th> <td> -283.83</td>\n",
       "</tr>\n",
       "<tr>\n",
       "  <th>No. Observations:</th>      <td>   330</td>      <th>  AIC:               </th> <td>   585.7</td>\n",
       "</tr>\n",
       "<tr>\n",
       "  <th>Df Residuals:</th>          <td>   321</td>      <th>  BIC:               </th> <td>   619.9</td>\n",
       "</tr>\n",
       "<tr>\n",
       "  <th>Df Model:</th>              <td>     8</td>      <th>                     </th>     <td> </td>   \n",
       "</tr>\n",
       "<tr>\n",
       "  <th>Covariance Type:</th>      <td>nonrobust</td>    <th>                     </th>     <td> </td>   \n",
       "</tr>\n",
       "</table>\n",
       "<table class=\"simpletable\">\n",
       "<tr>\n",
       "           <td></td>             <th>coef</th>     <th>std err</th>      <th>t</th>      <th>P>|t|</th>  <th>[0.025</th>    <th>0.975]</th>  \n",
       "</tr>\n",
       "<tr>\n",
       "  <th>const</th>              <td>    0.3706</td> <td>    0.329</td> <td>    1.125</td> <td> 0.261</td> <td>   -0.277</td> <td>    1.019</td>\n",
       "</tr>\n",
       "<tr>\n",
       "  <th>Movie_name_encoded</th> <td>   -0.0194</td> <td>    0.034</td> <td>   -0.569</td> <td> 0.570</td> <td>   -0.086</td> <td>    0.048</td>\n",
       "</tr>\n",
       "<tr>\n",
       "  <th>Marital_Status</th>     <td>    0.1039</td> <td>    0.091</td> <td>    1.145</td> <td> 0.253</td> <td>   -0.075</td> <td>    0.283</td>\n",
       "</tr>\n",
       "<tr>\n",
       "  <th>Gender</th>             <td>   -0.0242</td> <td>    0.067</td> <td>   -0.359</td> <td> 0.720</td> <td>   -0.157</td> <td>    0.108</td>\n",
       "</tr>\n",
       "<tr>\n",
       "  <th>Sinage</th>             <td>    0.1264</td> <td>    0.045</td> <td>    2.780</td> <td> 0.006</td> <td>    0.037</td> <td>    0.216</td>\n",
       "</tr>\n",
       "<tr>\n",
       "  <th>Parking</th>            <td>    0.3383</td> <td>    0.049</td> <td>    6.922</td> <td> 0.000</td> <td>    0.242</td> <td>    0.434</td>\n",
       "</tr>\n",
       "<tr>\n",
       "  <th>Clean</th>              <td>    0.1172</td> <td>    0.050</td> <td>    2.344</td> <td> 0.020</td> <td>    0.019</td> <td>    0.215</td>\n",
       "</tr>\n",
       "<tr>\n",
       "  <th>Age</th>                <td>    0.0238</td> <td>    0.058</td> <td>    0.411</td> <td> 0.681</td> <td>   -0.090</td> <td>    0.138</td>\n",
       "</tr>\n",
       "<tr>\n",
       "  <th>Income</th>             <td>    0.0266</td> <td>    0.042</td> <td>    0.627</td> <td> 0.531</td> <td>   -0.057</td> <td>    0.110</td>\n",
       "</tr>\n",
       "</table>\n",
       "<table class=\"simpletable\">\n",
       "<tr>\n",
       "  <th>Omnibus:</th>       <td>151.370</td> <th>  Durbin-Watson:     </th> <td>   1.953</td> \n",
       "</tr>\n",
       "<tr>\n",
       "  <th>Prob(Omnibus):</th> <td> 0.000</td>  <th>  Jarque-Bera (JB):  </th> <td>1405.458</td> \n",
       "</tr>\n",
       "<tr>\n",
       "  <th>Skew:</th>          <td> 1.655</td>  <th>  Prob(JB):          </th> <td>6.44e-306</td>\n",
       "</tr>\n",
       "<tr>\n",
       "  <th>Kurtosis:</th>      <td>12.553</td>  <th>  Cond. No.          </th> <td>    55.2</td> \n",
       "</tr>\n",
       "</table><br/><br/>Notes:<br/>[1] Standard Errors assume that the covariance matrix of the errors is correctly specified."
      ],
      "text/plain": [
       "<class 'statsmodels.iolib.summary.Summary'>\n",
       "\"\"\"\n",
       "                            OLS Regression Results                            \n",
       "==============================================================================\n",
       "Dep. Variable:                Overall   R-squared:                       0.307\n",
       "Model:                            OLS   Adj. R-squared:                  0.289\n",
       "Method:                 Least Squares   F-statistic:                     17.75\n",
       "Date:                Mon, 12 Sep 2022   Prob (F-statistic):           6.41e-22\n",
       "Time:                        17:15:46   Log-Likelihood:                -283.83\n",
       "No. Observations:                 330   AIC:                             585.7\n",
       "Df Residuals:                     321   BIC:                             619.9\n",
       "Df Model:                           8                                         \n",
       "Covariance Type:            nonrobust                                         \n",
       "======================================================================================\n",
       "                         coef    std err          t      P>|t|      [0.025      0.975]\n",
       "--------------------------------------------------------------------------------------\n",
       "const                  0.3706      0.329      1.125      0.261      -0.277       1.019\n",
       "Movie_name_encoded    -0.0194      0.034     -0.569      0.570      -0.086       0.048\n",
       "Marital_Status         0.1039      0.091      1.145      0.253      -0.075       0.283\n",
       "Gender                -0.0242      0.067     -0.359      0.720      -0.157       0.108\n",
       "Sinage                 0.1264      0.045      2.780      0.006       0.037       0.216\n",
       "Parking                0.3383      0.049      6.922      0.000       0.242       0.434\n",
       "Clean                  0.1172      0.050      2.344      0.020       0.019       0.215\n",
       "Age                    0.0238      0.058      0.411      0.681      -0.090       0.138\n",
       "Income                 0.0266      0.042      0.627      0.531      -0.057       0.110\n",
       "==============================================================================\n",
       "Omnibus:                      151.370   Durbin-Watson:                   1.953\n",
       "Prob(Omnibus):                  0.000   Jarque-Bera (JB):             1405.458\n",
       "Skew:                           1.655   Prob(JB):                    6.44e-306\n",
       "Kurtosis:                      12.553   Cond. No.                         55.2\n",
       "==============================================================================\n",
       "\n",
       "Notes:\n",
       "[1] Standard Errors assume that the covariance matrix of the errors is correctly specified.\n",
       "\"\"\""
      ]
     },
     "execution_count": 150,
     "metadata": {},
     "output_type": "execute_result"
    }
   ],
   "source": [
    "import statsmodels.api as sm\n",
    "Y = films['Overall']\n",
    "X = sm.add_constant(films[['Movie_name_encoded', 'Marital_Status', 'Gender','Sinage', 'Parking', 'Clean', \n",
    "                           'Age','Income']])\n",
    "mod = sm.OLS(Y, X)\n",
    "res = mod.fit()\n",
    "res.summary()"
   ]
  },
  {
   "cell_type": "markdown",
   "id": "a0502975",
   "metadata": {},
   "source": [
    "### Inference\n",
    "\n",
    "For this question we first do some data cleaning and preprocessing such as median imputation and label encoding.\n",
    "\n",
    "Then, we run a linear regression to see which factors can affect the overall customer satisfaction.\n",
    "\n",
    "The only variables which have a low enough p value (<0.05) are \"Sinage\", \"Parking\" and \"Clean\"\n",
    "\n",
    "Out of these, Parking affected the satisfaction the most."
   ]
  },
  {
   "cell_type": "markdown",
   "id": "fa73925c",
   "metadata": {},
   "source": [
    "## Q3"
   ]
  },
  {
   "cell_type": "code",
   "execution_count": 195,
   "id": "b021d30b",
   "metadata": {},
   "outputs": [
    {
     "data": {
      "image/png": "[encoded data removed]",
      "text/plain": [
       "<Figure size 432x432 with 1 Axes>"
      ]
     },
     "metadata": {},
     "output_type": "display_data"
    }
   ],
   "source": [
    "gender_demo = films.groupby(by=\"Gender\")[[\"Gender\"]].count().add_prefix(\"Count_\") \n",
    "plt.pie(x = gender_demo['Count_Gender'],\n",
    "        labels = ['Male','Female'],\n",
    "        autopct = \"%.1f%%\")\n",
    "plt.rcParams['figure.figsize'] = [6,6]\n",
    "plt.show()"
   ]
  },
  {
   "cell_type": "code",
   "execution_count": 199,
   "id": "13a196b2",
   "metadata": {},
   "outputs": [
    {
     "data": {
      "image/png": "[encoded data removed]",
      "text/plain": [
       "<Figure size 432x432 with 1 Axes>"
      ]
     },
     "metadata": {},
     "output_type": "display_data"
    }
   ],
   "source": [
    "age_demo = films.groupby(by=\"Age\")[[\"Age\"]].count().add_prefix(\"Count_\") \n",
    "plt.pie(x = age_demo['Count_Age'],\n",
    "        labels = [  \"1-12\",   \"13-30\", \"31-60\",  \"60+\"],\n",
    "        autopct = \"%.1f%%\")\n",
    "plt.rcParams['figure.figsize'] = [6,6]\n",
    "plt.show()"
   ]
  },
  {
   "cell_type": "code",
   "execution_count": 197,
   "id": "38d77686",
   "metadata": {},
   "outputs": [
    {
     "data": {
      "image/png": "[encoded data removed]",
      "text/plain": [
       "<Figure size 432x432 with 1 Axes>"
      ]
     },
     "metadata": {},
     "output_type": "display_data"
    }
   ],
   "source": [
    "marry_demo = films.groupby(by=\"Marital_Status\")[[\"Marital_Status\"]].count().add_prefix(\"Count_\") \n",
    "plt.pie(x = marry_demo['Count_Marital_Status'],\n",
    "        labels = ['Married','Single'],\n",
    "        autopct = \"%.1f%%\")\n",
    "plt.rcParams['figure.figsize'] = [6,6]\n",
    "plt.show()"
   ]
  },
  {
   "cell_type": "code",
   "execution_count": 204,
   "id": "10a14168",
   "metadata": {},
   "outputs": [
    {
     "data": {
      "image/png": "[encoded data removed]",
      "text/plain": [
       "<Figure size 432x432 with 1 Axes>"
      ]
     },
     "metadata": {},
     "output_type": "display_data"
    }
   ],
   "source": [
    "inc_demo = films.groupby(by=\"Income\")[[\"Income\"]].count().add_prefix(\"Count_\") \n",
    "plt.pie(x = inc_demo['Count_Income'],\n",
    "        labels = [\"Less than $50,000\", \"$50,000-$100,000\", \"$100,000+\"],\n",
    "        autopct = \"%.1f%%\")\n",
    "plt.rcParams['figure.figsize'] = [6,6]\n",
    "plt.show()"
   ]
  },
  {
   "cell_type": "markdown",
   "id": "15a5bbd8",
   "metadata": {},
   "source": [
    "### Inference\n",
    "\n",
    "From above pie charts we can infer what the demographic composition of the movie-goers is:\n",
    "\n",
    "We see that Females is the more popular sex, 13-30 year olds form over half of the patron population, 70% people are single, and majority of people have income of less than $50,000."
   ]
  },
  {
   "cell_type": "markdown",
   "id": "878e8f47",
   "metadata": {},
   "source": [
    "## Q4"
   ]
  },
  {
   "cell_type": "code",
   "execution_count": 213,
   "id": "197e3996",
   "metadata": {},
   "outputs": [
    {
     "name": "stderr",
     "output_type": "stream",
     "text": [
      "/var/folders/jt/dpcpyp4n5mggjjbh2lylsglh0000gn/T/ipykernel_30216/2322263842.py:4: SettingWithCopyWarning: \n",
      "A value is trying to be set on a copy of a slice from a DataFrame\n",
      "\n",
      "See the caveats in the documentation: https://pandas.pydata.org/pandas-docs/stable/user_guide/indexing.html#returning-a-view-versus-a-copy\n",
      "  films[\"Hear_About\"] [ctr] = re.split(',', str(i))\n"
     ]
    },
    {
     "data": {
      "text/html": [
       "<div>\n",
       "<style scoped>\n",
       "    .dataframe tbody tr th:only-of-type {\n",
       "        vertical-align: middle;\n",
       "    }\n",
       "\n",
       "    .dataframe tbody tr th {\n",
       "        vertical-align: top;\n",
       "    }\n",
       "\n",
       "    .dataframe thead th {\n",
       "        text-align: right;\n",
       "    }\n",
       "</style>\n",
       "<table border=\"1\" class=\"dataframe\">\n",
       "  <thead>\n",
       "    <tr style=\"text-align: right;\">\n",
       "      <th></th>\n",
       "      <th>_rowstate_</th>\n",
       "      <th>Movie</th>\n",
       "      <th>Gender</th>\n",
       "      <th>Marital_Status</th>\n",
       "      <th>Sinage</th>\n",
       "      <th>Parking</th>\n",
       "      <th>Clean</th>\n",
       "      <th>Overall</th>\n",
       "      <th>Age</th>\n",
       "      <th>Income</th>\n",
       "      <th>Hear_About</th>\n",
       "      <th>Movie_name_encoded</th>\n",
       "    </tr>\n",
       "  </thead>\n",
       "  <tbody>\n",
       "    <tr>\n",
       "      <th>0</th>\n",
       "      <td>0</td>\n",
       "      <td>Ferris Buellers Day Off</td>\n",
       "      <td>2</td>\n",
       "      <td>1</td>\n",
       "      <td>2.0</td>\n",
       "      <td>2.0</td>\n",
       "      <td>2.0</td>\n",
       "      <td>2.0</td>\n",
       "      <td>3.0</td>\n",
       "      <td>1.0</td>\n",
       "      <td>[5]</td>\n",
       "      <td>0</td>\n",
       "    </tr>\n",
       "    <tr>\n",
       "      <th>1</th>\n",
       "      <td>0</td>\n",
       "      <td>Ferris Buellers Day Off</td>\n",
       "      <td>2</td>\n",
       "      <td>2</td>\n",
       "      <td>1.0</td>\n",
       "      <td>1.0</td>\n",
       "      <td>1.0</td>\n",
       "      <td>1.0</td>\n",
       "      <td>2.0</td>\n",
       "      <td>1.0</td>\n",
       "      <td>[5]</td>\n",
       "      <td>0</td>\n",
       "    </tr>\n",
       "    <tr>\n",
       "      <th>2</th>\n",
       "      <td>0</td>\n",
       "      <td>Ferris Buellers Day Off</td>\n",
       "      <td>1</td>\n",
       "      <td>1</td>\n",
       "      <td>2.0</td>\n",
       "      <td>4.0</td>\n",
       "      <td>3.0</td>\n",
       "      <td>2.0</td>\n",
       "      <td>4.0</td>\n",
       "      <td>1.0</td>\n",
       "      <td>[5]</td>\n",
       "      <td>0</td>\n",
       "    </tr>\n",
       "    <tr>\n",
       "      <th>3</th>\n",
       "      <td>0</td>\n",
       "      <td>Ferris Buellers Day Off</td>\n",
       "      <td>2</td>\n",
       "      <td>1</td>\n",
       "      <td>1.0</td>\n",
       "      <td>3.0</td>\n",
       "      <td>2.0</td>\n",
       "      <td>2.0</td>\n",
       "      <td>4.0</td>\n",
       "      <td>1.0</td>\n",
       "      <td>[5]</td>\n",
       "      <td>0</td>\n",
       "    </tr>\n",
       "    <tr>\n",
       "      <th>4</th>\n",
       "      <td>0</td>\n",
       "      <td>Ferris Buellers Day Off</td>\n",
       "      <td>2</td>\n",
       "      <td>1</td>\n",
       "      <td>1.0</td>\n",
       "      <td>1.0</td>\n",
       "      <td>1.0</td>\n",
       "      <td>1.0</td>\n",
       "      <td>3.0</td>\n",
       "      <td>3.0</td>\n",
       "      <td>[1]</td>\n",
       "      <td>0</td>\n",
       "    </tr>\n",
       "    <tr>\n",
       "      <th>...</th>\n",
       "      <td>...</td>\n",
       "      <td>...</td>\n",
       "      <td>...</td>\n",
       "      <td>...</td>\n",
       "      <td>...</td>\n",
       "      <td>...</td>\n",
       "      <td>...</td>\n",
       "      <td>...</td>\n",
       "      <td>...</td>\n",
       "      <td>...</td>\n",
       "      <td>...</td>\n",
       "      <td>...</td>\n",
       "    </tr>\n",
       "    <tr>\n",
       "      <th>325</th>\n",
       "      <td>0</td>\n",
       "      <td>Old School</td>\n",
       "      <td>2</td>\n",
       "      <td>2</td>\n",
       "      <td>1.0</td>\n",
       "      <td>2.0</td>\n",
       "      <td>1.0</td>\n",
       "      <td>1.0</td>\n",
       "      <td>2.0</td>\n",
       "      <td>1.0</td>\n",
       "      <td>[1]</td>\n",
       "      <td>1</td>\n",
       "    </tr>\n",
       "    <tr>\n",
       "      <th>326</th>\n",
       "      <td>0</td>\n",
       "      <td>Old School</td>\n",
       "      <td>1</td>\n",
       "      <td>1</td>\n",
       "      <td>2.0</td>\n",
       "      <td>2.0</td>\n",
       "      <td>2.0</td>\n",
       "      <td>2.0</td>\n",
       "      <td>3.0</td>\n",
       "      <td>3.0</td>\n",
       "      <td>[5]</td>\n",
       "      <td>1</td>\n",
       "    </tr>\n",
       "    <tr>\n",
       "      <th>327</th>\n",
       "      <td>0</td>\n",
       "      <td>Old School</td>\n",
       "      <td>2</td>\n",
       "      <td>1</td>\n",
       "      <td>2.0</td>\n",
       "      <td>1.0</td>\n",
       "      <td>1.0</td>\n",
       "      <td>2.0</td>\n",
       "      <td>2.0</td>\n",
       "      <td>2.0</td>\n",
       "      <td>[5]</td>\n",
       "      <td>1</td>\n",
       "    </tr>\n",
       "    <tr>\n",
       "      <th>328</th>\n",
       "      <td>0</td>\n",
       "      <td>Old School</td>\n",
       "      <td>1</td>\n",
       "      <td>1</td>\n",
       "      <td>1.0</td>\n",
       "      <td>1.0</td>\n",
       "      <td>1.0</td>\n",
       "      <td>1.0</td>\n",
       "      <td>2.0</td>\n",
       "      <td>1.0</td>\n",
       "      <td>[3]</td>\n",
       "      <td>1</td>\n",
       "    </tr>\n",
       "    <tr>\n",
       "      <th>329</th>\n",
       "      <td>0</td>\n",
       "      <td>Old School</td>\n",
       "      <td>2</td>\n",
       "      <td>2</td>\n",
       "      <td>2.0</td>\n",
       "      <td>2.0</td>\n",
       "      <td>3.0</td>\n",
       "      <td>1.0</td>\n",
       "      <td>2.0</td>\n",
       "      <td>1.0</td>\n",
       "      <td>[5]</td>\n",
       "      <td>1</td>\n",
       "    </tr>\n",
       "  </tbody>\n",
       "</table>\n",
       "<p>330 rows × 12 columns</p>\n",
       "</div>"
      ],
      "text/plain": [
       "     _rowstate_                    Movie  Gender  Marital_Status  Sinage  \\\n",
       "0             0  Ferris Buellers Day Off       2               1     2.0   \n",
       "1             0  Ferris Buellers Day Off       2               2     1.0   \n",
       "2             0  Ferris Buellers Day Off       1               1     2.0   \n",
       "3             0  Ferris Buellers Day Off       2               1     1.0   \n",
       "4             0  Ferris Buellers Day Off       2               1     1.0   \n",
       "..          ...                      ...     ...             ...     ...   \n",
       "325           0               Old School       2               2     1.0   \n",
       "326           0               Old School       1               1     2.0   \n",
       "327           0               Old School       2               1     2.0   \n",
       "328           0               Old School       1               1     1.0   \n",
       "329           0               Old School       2               2     2.0   \n",
       "\n",
       "     Parking  Clean  Overall  Age  Income Hear_About  Movie_name_encoded  \n",
       "0        2.0    2.0      2.0  3.0     1.0        [5]                   0  \n",
       "1        1.0    1.0      1.0  2.0     1.0        [5]                   0  \n",
       "2        4.0    3.0      2.0  4.0     1.0        [5]                   0  \n",
       "3        3.0    2.0      2.0  4.0     1.0        [5]                   0  \n",
       "4        1.0    1.0      1.0  3.0     3.0        [1]                   0  \n",
       "..       ...    ...      ...  ...     ...        ...                 ...  \n",
       "325      2.0    1.0      1.0  2.0     1.0        [1]                   1  \n",
       "326      2.0    2.0      2.0  3.0     3.0        [5]                   1  \n",
       "327      1.0    1.0      2.0  2.0     2.0        [5]                   1  \n",
       "328      1.0    1.0      1.0  2.0     1.0        [3]                   1  \n",
       "329      2.0    3.0      1.0  2.0     1.0        [5]                   1  \n",
       "\n",
       "[330 rows x 12 columns]"
      ]
     },
     "execution_count": 213,
     "metadata": {},
     "output_type": "execute_result"
    }
   ],
   "source": [
    "films[\"Hear_About\"] = films[\"Hear_About\"] .fillna(films[\"Hear_About\"].mode()[0])\n",
    "ctr = 0 \n",
    "for i in films[\"Hear_About\"]:\n",
    "    films[\"Hear_About\"] [ctr] = re.split(',', str(i))\n",
    "    ctr = ctr+1\n",
    "films"
   ]
  },
  {
   "cell_type": "code",
   "execution_count": 216,
   "id": "e1f4bdf1",
   "metadata": {},
   "outputs": [],
   "source": [
    "count_for_each = [0,0,0,0,0]\n",
    "for i in films[\"Hear_About\"]:\n",
    "    if ('1' in i):\n",
    "        count_for_each[0]+=1\n",
    "    if ('2' in i):\n",
    "        count_for_each[1]+=1\n",
    "    if ('3' in i):\n",
    "        count_for_each[2]+=1\n",
    "    if ('4' in i):\n",
    "        count_for_each[3]+=1\n",
    "    if ('5' in i):\n",
    "        count_for_each[4]+=1\n",
    "        \n",
    "count_for_each = pd.Series(count_for_each)"
   ]
  },
  {
   "cell_type": "code",
   "execution_count": 218,
   "id": "4a603d8d",
   "metadata": {},
   "outputs": [
    {
     "data": {
      "image/png": "[encoded data removed]",
      "text/plain": [
       "<Figure size 432x432 with 1 Axes>"
      ]
     },
     "metadata": {},
     "output_type": "display_data"
    }
   ],
   "source": [
    "plt.pie(x = count_for_each,\n",
    "        labels = [\"television\",\"newspaper\", \"radio\", \"website\",   \"word of mouth\"],\n",
    "        autopct = \"%.1f%%\")\n",
    "plt.rcParams['figure.figsize'] = [6,6]\n",
    "plt.show()"
   ]
  },
  {
   "cell_type": "markdown",
   "id": "cc1327cf",
   "metadata": {},
   "source": [
    "### Inference\n",
    "\n",
    "From above analysis and pie chart we can infer about the marketing performance that:\n",
    "\n",
    "Word-of-mouth was the most successful form of advertisement till now. It accounted for 71% of customers.\n",
    "\n",
    "The other modes were website and TV, in that order."
   ]
  }
 ],
 "metadata": {
  "kernelspec": {
   "display_name": "Python 3 (ipykernel)",
   "language": "python",
   "name": "python3"
  },
  "language_info": {
   "codemirror_mode": {
    "name": "ipython",
    "version": 3
   },
   "file_extension": ".py",
   "mimetype": "text/x-python",
   "name": "python",
   "nbconvert_exporter": "python",
   "pygments_lexer": "ipython3",
   "version": "3.9.7"
  }
 },
 "nbformat": 4,
 "nbformat_minor": 5
}
